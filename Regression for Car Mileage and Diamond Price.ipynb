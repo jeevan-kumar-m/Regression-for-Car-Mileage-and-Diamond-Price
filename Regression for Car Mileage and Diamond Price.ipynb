{
 "cells": [
  {
   "cell_type": "markdown",
   "id": "08bfc70a",
   "metadata": {},
   "source": [
    "# Task 1:\n",
    "\n",
    "Video Ingestion"
   ]
  },
  {
   "cell_type": "code",
   "execution_count": 1,
   "id": "d1ae607f",
   "metadata": {},
   "outputs": [],
   "source": [
    "import cv2\n",
    "cap = cv2.VideoCapture('video.mp4') \n",
    "\n",
    "while(cap.isOpened()):\n",
    "    ret, frame = cap.read()\n",
    "    if ret == True:\n",
    "       # process frame\n",
    "       pass\n",
    "    else: \n",
    "       break\n",
    "       \n",
    "cap.release()"
   ]
  },
  {
   "cell_type": "markdown",
   "id": "f67cfd14",
   "metadata": {},
   "source": [
    "Frame Processing"
   ]
  },
  {
   "cell_type": "code",
   "execution_count": 3,
   "id": "1ed93c81",
   "metadata": {},
   "outputs": [],
   "source": [
    "frame_id = 1 \n",
    "\n",
    "def process_frame(frame):\n",
    "\n",
    "    # Generate metadata\n",
    "    camera_id = \"cam1\"  \n",
    "    geo_loc = \"18.5204° N, 73.8567° E\"\n",
    "\n",
    "    global frame_id\n",
    "    \n",
    "    # Write JPEG\n",
    "    if frame_id % 25 == 0:\n",
    "        cv2.imwrite(f'frames/frame-{frame_id}.jpg', frame)\n",
    "\n",
    "    # Construct frame JSON \n",
    "    frame_data = {\n",
    "         \"camera_id\": camera_id,  \n",
    "         \"frame_id\": frame_id,\n",
    "         \"geo_loc\": geo_loc,\n",
    "         \"file_path\": f'frames/frame-{frame_id}.jpg'\n",
    "    }\n",
    "    \n",
    "    frame_id += 1\n",
    "    \n",
    "    return frame_data"
   ]
  },
  {
   "cell_type": "markdown",
   "id": "87e61e90",
   "metadata": {},
   "source": [
    "Batching"
   ]
  },
  {
   "cell_type": "code",
   "execution_count": 4,
   "id": "4841478b",
   "metadata": {},
   "outputs": [],
   "source": [
    "# Sample config\n",
    "CONFIG = {\n",
    "    \"duration\": 300 # in seconds  \n",
    "}\n",
    "\n",
    "batch_id = 0\n",
    "batch_data = []\n",
    "\n",
    "def store_batch(data):\n",
    "     # save to database\n",
    "     pass\n",
    "     \n",
    "for frame in frame_list:\n",
    "\n",
    "    if frame.frame_id % (25 * CONFIG['duration']) == 0:\n",
    "       create_batch(batch_data)  \n",
    "       store_batch(batch_data)\n",
    "       \n",
    "       batch_id +=1  \n",
    "       batch_data = [] \n",
    "       \n",
    "    batch_data.append(frame)"
   ]
  },
  {
   "cell_type": "markdown",
   "id": "71abc846",
   "metadata": {},
   "source": [
    "Data Storage"
   ]
  },
  {
   "cell_type": "code",
   "execution_count": 5,
   "id": "4dd23f0b",
   "metadata": {},
   "outputs": [],
   "source": [
    "import sqlite3\n",
    "\n",
    "# Connect to database\n",
    "conn = sqlite3.connect('data.db')\n",
    "\n",
    "# Create batches table \n",
    "conn.execute('''CREATE TABLE batches \n",
    "              (id INTEGER PRIMARY KEY, start_frame INTEGER, end_frame INTEGER, start_time TEXT, end_time TEXT)''')\n",
    "\n",
    "def store_batch(batch):\n",
    "    conn.execute('INSERT INTO batches (id, start_frame, end_frame, start_time, end_time) VALUES (?, ?, ?, ?, ?)', \n",
    "                 (batch['id'], batch['start_frame'], batch['end_frame'], batch['start_time'], batch['end_time']))\n",
    "    conn.commit()"
   ]
  },
  {
   "cell_type": "markdown",
   "id": "ca004b35",
   "metadata": {},
   "source": [
    "Concurrency and Error Handling"
   ]
  },
  {
   "cell_type": "code",
   "execution_count": 19,
   "id": "d28cb32f",
   "metadata": {},
   "outputs": [],
   "source": [
    "import threading\n",
    "import logging\n",
    "\n",
    "# Function definitions\n",
    "def process_stream1():\n",
    "    # Your code for processing stream 1 goes here\n",
    "    pass\n",
    "\n",
    "def process_stream2():\n",
    "    # Your code for processing stream 2 goes here\n",
    "    pass\n",
    "\n",
    "# Create threads\n",
    "thread1 = threading.Thread(target=process_stream1)\n",
    "thread2 = threading.Thread(target=process_stream2)\n",
    "\n",
    "# Create logger\n",
    "logger = logging.getLogger('app_logger')\n",
    "\n",
    "try:\n",
    "    # Start threads\n",
    "    thread1.start()\n",
    "    thread2.start()\n",
    "except Exception as e:\n",
    "    print(\"Error:\", e)\n",
    "    logger.error(e)\n"
   ]
  },
  {
   "cell_type": "markdown",
   "id": "944e3195",
   "metadata": {},
   "source": [
    "Task 2:"
   ]
  },
  {
   "cell_type": "markdown",
   "id": "fc6410ff",
   "metadata": {},
   "source": [
    "Get user input"
   ]
  },
  {
   "cell_type": "code",
   "execution_count": 20,
   "id": "6e95f01f",
   "metadata": {},
   "outputs": [
    {
     "name": "stdout",
     "output_type": "stream",
     "text": [
      "Enter timestamp (YYYY-MM-DD HH:MM:SS): 2012-11-20\n",
      "Enter duration: 11\n"
     ]
    }
   ],
   "source": [
    "ts = input(\"Enter timestamp (YYYY-MM-DD HH:MM:SS): \")  \n",
    "duration = int(input(\"Enter duration: \"))"
   ]
  },
  {
   "cell_type": "code",
   "execution_count": null,
   "id": "a2a94fa2",
   "metadata": {},
   "outputs": [],
   "source": []
  }
 ],
 "metadata": {
  "kernelspec": {
   "display_name": "Python 3 (ipykernel)",
   "language": "python",
   "name": "python3"
  },
  "language_info": {
   "codemirror_mode": {
    "name": "ipython",
    "version": 3
   },
   "file_extension": ".py",
   "mimetype": "text/x-python",
   "name": "python",
   "nbconvert_exporter": "python",
   "pygments_lexer": "ipython3",
   "version": "3.9.13"
  }
 },
 "nbformat": 4,
 "nbformat_minor": 5
}
